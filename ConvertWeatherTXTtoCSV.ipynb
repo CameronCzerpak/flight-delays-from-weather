{
 "cells": [
  {
   "cell_type": "code",
   "execution_count": null,
   "metadata": {},
   "outputs": [],
   "source": [
    "import csv"
   ]
  },
  {
   "cell_type": "code",
   "execution_count": null,
   "metadata": {},
   "outputs": [],
   "source": [
    "# Histroical weather data scan be found at \n",
    "# https://www.ncei.noaa.gov/access/crn/\n",
    "# Files can easily be saved as .txt with inequal spacing\n",
    "# In the example below, I saved each year of Millbrook NY daily weather as NortheastYear.txt and converted them to CSV\n",
    "\n",
    "\n",
    "# Stations \n",
    "# Midwest_NecedahWI\n",
    "# Mountain_ BoulderCO\n",
    "# Northeast_MillbrookNY\n",
    "# PacificNorthWest_QuinaultWA\n",
    "# Southeast_WatkinsvilleGA\n",
    "# Southwest_SantaBarbaraCA\n",
    "# Texas_AustinTX"
   ]
  },
  {
   "cell_type": "code",
   "execution_count": null,
   "metadata": {},
   "outputs": [],
   "source": [
    "with open('Northeast2014.txt') as f, open('Northeast2014.csv', 'w', newline='') as o:\n",
    "    writer = csv.writer(o)\n",
    "    for line in f:\n",
    "        writer.writerow(line.split())"
   ]
  },
  {
   "cell_type": "code",
   "execution_count": null,
   "metadata": {},
   "outputs": [],
   "source": [
    "with open('Northeast2015.txt') as f, open('Northeast2015.csv', 'w', newline='') as o:\n",
    "    writer = csv.writer(o)\n",
    "    for line in f:\n",
    "        writer.writerow(line.split())"
   ]
  },
  {
   "cell_type": "code",
   "execution_count": null,
   "metadata": {},
   "outputs": [],
   "source": [
    "with open('Northeast2016.txt') as f, open('Northeast2016.csv', 'w', newline='') as o:\n",
    "    writer = csv.writer(o)\n",
    "    for line in f:\n",
    "        writer.writerow(line.split())"
   ]
  },
  {
   "cell_type": "code",
   "execution_count": null,
   "metadata": {},
   "outputs": [],
   "source": [
    "with open('Northeast2017.txt') as f, open('Northeast2017.csv', 'w', newline='') as o:\n",
    "    writer = csv.writer(o)\n",
    "    for line in f:\n",
    "        writer.writerow(line.split())"
   ]
  },
  {
   "cell_type": "code",
   "execution_count": null,
   "metadata": {},
   "outputs": [],
   "source": [
    "with open('Northeast2018.txt') as f, open('Northeast2018.csv', 'w', newline='') as o:\n",
    "    writer = csv.writer(o)\n",
    "    for line in f:\n",
    "        writer.writerow(line.split())"
   ]
  }
 ],
 "metadata": {
  "kernelspec": {
   "display_name": "Python 3",
   "language": "python",
   "name": "python3"
  },
  "language_info": {
   "codemirror_mode": {
    "name": "ipython",
    "version": 3
   },
   "file_extension": ".py",
   "mimetype": "text/x-python",
   "name": "python",
   "nbconvert_exporter": "python",
   "pygments_lexer": "ipython3",
   "version": "3.7.4"
  }
 },
 "nbformat": 4,
 "nbformat_minor": 4
}
